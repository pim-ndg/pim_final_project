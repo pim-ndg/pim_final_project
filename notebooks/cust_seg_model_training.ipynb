{
 "cells": [
  {
   "cell_type": "code",
   "execution_count": 1,
   "metadata": {},
   "outputs": [],
   "source": [
    "import joblib\n",
    "import pandas as pd"
   ]
  },
  {
   "cell_type": "code",
   "execution_count": 2,
   "metadata": {},
   "outputs": [],
   "source": [
    "# Load the preprocessed customer data\n",
    "customer_data = pd.read_csv('../data/processed/customer_data.csv')\n"
   ]
  },
  {
   "cell_type": "code",
   "execution_count": 3,
   "metadata": {},
   "outputs": [
    {
     "data": {
      "text/plain": [
       "['segment_probabilities.joblib']"
      ]
     },
     "execution_count": 3,
     "metadata": {},
     "output_type": "execute_result"
    }
   ],
   "source": [
    "# Assign buy-again probabilities to each segment\n",
    "segment_probabilities = {\n",
    "    0: 0.8,  # High buy-again probability for segment 0\n",
    "    1: 0.6,  # Medium buy-again probability for segment 1\n",
    "    2: 0.4,  # Low buy-again probability for segment 2\n",
    "    3: 0.7,  # Medium-high buy-again probability for segment 3\n",
    "    4: 0.5   # Medium buy-again probability for segment 4\n",
    "}\n",
    "\n",
    "# Save the segment-probability mapping\n",
    "joblib.dump(segment_probabilities, '../models/segment_probabilities.joblib')"
   ]
  }
 ],
 "metadata": {
  "kernelspec": {
   "display_name": "envml",
   "language": "python",
   "name": "python3"
  },
  "language_info": {
   "codemirror_mode": {
    "name": "ipython",
    "version": 3
   },
   "file_extension": ".py",
   "mimetype": "text/x-python",
   "name": "python",
   "nbconvert_exporter": "python",
   "pygments_lexer": "ipython3",
   "version": "3.11.9"
  }
 },
 "nbformat": 4,
 "nbformat_minor": 2
}
