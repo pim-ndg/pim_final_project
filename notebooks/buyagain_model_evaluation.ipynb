{
 "cells": [
  {
   "cell_type": "code",
   "execution_count": 1,
   "metadata": {},
   "outputs": [],
   "source": [
    "import pandas as pd\n",
    "import numpy as np\n",
    "from sklearn.metrics import precision_score, recall_score, f1_score\n",
    "import joblib"
   ]
  },
  {
   "cell_type": "code",
   "execution_count": 2,
   "metadata": {},
   "outputs": [],
   "source": [
    "# Load the data and model\n",
    "customer_product_matrix = pd.read_csv('../data/processed/customer_product_matrix.csv', index_col=0)\n",
    "model = joblib.load('../models/buy_again_model.joblib')\n",
    "scaler = joblib.load('../models/buy_again_scaler.joblib')"
   ]
  },
  {
   "cell_type": "code",
   "execution_count": 3,
   "metadata": {},
   "outputs": [],
   "source": [
    "# Prepare the data\n",
    "X = customer_product_matrix.values\n",
    "X_scaled = scaler.transform(X)"
   ]
  },
  {
   "cell_type": "code",
   "execution_count": 4,
   "metadata": {},
   "outputs": [],
   "source": [
    "# Function to get recommendations\n",
    "def get_recommendations(customer_id, n_recommendations=5):\n",
    "    customer_vector = X_scaled[customer_product_matrix.index == customer_id]\n",
    "    distances, indices = model.kneighbors(customer_vector)\n",
    "    \n",
    "    similar_customers = customer_product_matrix.index[indices[0][1:]]\n",
    "    recommended_products = customer_product_matrix.loc[similar_customers].sum().sort_values(ascending=False)\n",
    "    \n",
    "    return recommended_products.head(n_recommendations)"
   ]
  },
  {
   "cell_type": "code",
   "execution_count": 5,
   "metadata": {},
   "outputs": [],
   "source": [
    "# Evaluate the model\n",
    "def evaluate_recommendations(n_recommendations=5):\n",
    "    true_positives = 0\n",
    "    false_positives = 0\n",
    "    false_negatives = 0\n",
    "    \n",
    "    for customer_id in customer_product_matrix.index:\n",
    "        actual_purchases = set(customer_product_matrix.columns[customer_product_matrix.loc[customer_id] > 0])\n",
    "        recommendations = set(get_recommendations(customer_id, n_recommendations).index)\n",
    "        \n",
    "        true_positives += len(actual_purchases.intersection(recommendations))\n",
    "        false_positives += len(recommendations - actual_purchases)\n",
    "        false_negatives += len(actual_purchases - recommendations)\n",
    "    \n",
    "    precision = true_positives / (true_positives + false_positives)\n",
    "    recall = true_positives / (true_positives + false_negatives)\n",
    "    f1 = 2 * (precision * recall) / (precision + recall)\n",
    "    \n",
    "    return precision, recall, f1"
   ]
  },
  {
   "cell_type": "code",
   "execution_count": 6,
   "metadata": {},
   "outputs": [],
   "source": [
    "# Evaluate the model\n",
    "precision, recall, f1 = evaluate_recommendations()\n",
    "print(f\"Precision: {precision:.4f}\")\n",
    "print(f\"Recall: {recall:.4f}\")\n",
    "print(f\"F1 Score: {f1:.4f}\")"
   ]
  },
  {
   "cell_type": "code",
   "execution_count": null,
   "metadata": {},
   "outputs": [
    {
     "name": "stdout",
     "output_type": "stream",
     "text": [
      "\n",
      "Recommendations for customer 12346.0:\n",
      "10002    0.0\n",
      "72134    0.0\n",
      "72586    0.0\n",
      "72598    0.0\n",
      "72709    0.0\n",
      "dtype: float64\n",
      "\n",
      "Recommendations for customer 12347.0:\n",
      "21064    50.0\n",
      "23422    12.0\n",
      "23420    12.0\n",
      "22196    12.0\n",
      "20936    12.0\n",
      "dtype: float64\n",
      "\n",
      "Recommendations for customer 12348.0:\n",
      "21983    144.0\n",
      "23076    120.0\n",
      "23077    120.0\n",
      "23230     50.0\n",
      "84077     48.0\n",
      "dtype: float64\n",
      "\n",
      "Recommendations for customer 12349.0:\n",
      "23273    44.0\n",
      "22086    40.0\n",
      "23202    40.0\n",
      "23203    40.0\n",
      "22077    36.0\n",
      "dtype: float64\n",
      "\n",
      "Recommendations for customer 12350.0:\n",
      "23293     56.0\n",
      "23232     50.0\n",
      "22704     50.0\n",
      "16156S    50.0\n",
      "23120     48.0\n",
      "dtype: float64\n"
     ]
    }
   ],
   "source": [
    "# Example recommendations for a few customers\n",
    "for customer_id in customer_product_matrix.index[:5]:\n",
    "    print(f\"\\nRecommendations for customer {customer_id}:\")\n",
    "    print(get_recommendations(customer_id))"
   ]
  }
 ],
 "metadata": {
  "kernelspec": {
   "display_name": "envml",
   "language": "python",
   "name": "python3"
  },
  "language_info": {
   "codemirror_mode": {
    "name": "ipython",
    "version": 3
   },
   "file_extension": ".py",
   "mimetype": "text/x-python",
   "name": "python",
   "nbconvert_exporter": "python",
   "pygments_lexer": "ipython3",
   "version": "3.11.9"
  }
 },
 "nbformat": 4,
 "nbformat_minor": 2
}
