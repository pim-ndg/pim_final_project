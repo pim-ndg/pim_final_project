{
 "cells": [
  {
   "cell_type": "code",
   "execution_count": 1,
   "metadata": {},
   "outputs": [],
   "source": [
    "import pandas as pd\n",
    "from sklearn.preprocessing import StandardScaler\n",
    "from sklearn.cluster import KMeans"
   ]
  },
  {
   "cell_type": "code",
   "execution_count": 2,
   "metadata": {},
   "outputs": [],
   "source": [
    "# Load the data\n",
    "retail_data = pd.read_excel('../data/raw_data/Online Retail.xlsx')"
   ]
  },
  {
   "cell_type": "code",
   "execution_count": 4,
   "metadata": {},
   "outputs": [],
   "source": [
    "def preprocess_data(retail_data):\n",
    "    # Handle missing values\n",
    "    retail_data = handle_missing_values(retail_data)\n",
    "    \n",
    "    # Remove duplicates\n",
    "    retail_data = remove_duplicates(retail_data)\n",
    "    \n",
    "    # Perform additional preprocessing steps as needed\n",
    "    \n",
    "    return retail_data\n",
    "\n",
    "def handle_missing_values(df):\n",
    "    # Drop rows with missing values in 'InvoiceNo' or 'StockCode'\n",
    "    df = df.dropna(subset=['InvoiceNo', 'StockCode'])\n",
    "    \n",
    "    # Fill missing values in 'Quantity' with 0\n",
    "    df['Quantity'] = df['Quantity'].fillna(0)\n",
    "    \n",
    "    # Fill missing values in 'UnitPrice' with the mean\n",
    "    df['UnitPrice'] = df['UnitPrice'].fillna(df['UnitPrice'].mean())\n",
    "    \n",
    "    return df\n",
    "\n",
    "def remove_duplicates(df):\n",
    "    # Drop exact duplicates based on all columns\n",
    "    df = df.drop_duplicates()\n",
    "    \n",
    "    # Drop duplicates based on 'InvoiceNo', 'StockCode', and 'Description'\n",
    "    df = df.drop_duplicates(subset=['InvoiceNo', 'StockCode', 'Description'])\n",
    "    \n",
    "    return df"
   ]
  },
  {
   "cell_type": "code",
   "execution_count": 5,
   "metadata": {},
   "outputs": [],
   "source": [
    "# Preprocess the data (handle missing values, remove duplicates, etc.)\n",
    "retail_data = preprocess_data(retail_data)"
   ]
  },
  {
   "cell_type": "code",
   "execution_count": 6,
   "metadata": {},
   "outputs": [],
   "source": [
    "# Extract relevant features for customer segmentation\n",
    "customer_data = retail_data.groupby('CustomerID').agg({\n",
    "    'InvoiceNo': 'count',\n",
    "    'Quantity': 'sum',\n",
    "    'UnitPrice': 'mean'\n",
    "}).reset_index()"
   ]
  },
  {
   "cell_type": "code",
   "execution_count": 7,
   "metadata": {},
   "outputs": [],
   "source": [
    "# Scale the features using StandardScaler\n",
    "scaler = StandardScaler()\n",
    "X = scaler.fit_transform(customer_data[['Quantity', 'UnitPrice']])\n",
    "customer_data[['Quantity', 'UnitPrice']] = X"
   ]
  },
  {
   "cell_type": "code",
   "execution_count": 8,
   "metadata": {},
   "outputs": [],
   "source": [
    "# Perform customer segmentation using K-Means clustering\n",
    "kmeans = KMeans(n_clusters=5, random_state=42)\n",
    "customer_data['segment'] = kmeans.fit_predict(customer_data[['Quantity', 'UnitPrice']])\n"
   ]
  },
  {
   "cell_type": "code",
   "execution_count": 9,
   "metadata": {},
   "outputs": [],
   "source": [
    "import pandas as pd\n",
    "\n",
    "def segment_analysis(customer_data):\n",
    "    # Get the unique segments\n",
    "    segments = customer_data['segment'].unique()\n",
    "    \n",
    "    # Analyze the characteristics of each segment\n",
    "    for segment in segments:\n",
    "        segment_data = customer_data[customer_data['segment'] == segment]\n",
    "        \n",
    "        # Calculate the mean and standard deviation for each feature\n",
    "        quantity_mean = segment_data['Quantity'].mean()\n",
    "        quantity_std = segment_data['Quantity'].std()\n",
    "        price_mean = segment_data['UnitPrice'].mean()\n",
    "        price_std = segment_data['UnitPrice'].std()\n",
    "        \n",
    "        # Calculate the total number of customers in the segment\n",
    "        num_customers = len(segment_data)\n",
    "        \n",
    "        # Print the segment analysis\n",
    "        print(f\"Segment {segment}:\")\n",
    "        print(f\"Number of Customers: {num_customers}\")\n",
    "        print(f\"Average Quantity: {quantity_mean:.2f} (±{quantity_std:.2f})\")\n",
    "        print(f\"Average Unit Price: {price_mean:.2f} (±{price_std:.2f})\")\n",
    "        print()"
   ]
  },
  {
   "cell_type": "code",
   "execution_count": 10,
   "metadata": {},
   "outputs": [
    {
     "name": "stdout",
     "output_type": "stream",
     "text": [
      "Segment 0:\n",
      "Number of Customers: 4326\n",
      "Average Quantity: -0.07 (±0.26)\n",
      "Average Unit Price: -0.03 (±0.15)\n",
      "\n",
      "Segment 3:\n",
      "Number of Customers: 10\n",
      "Average Quantity: 16.33 (±9.17)\n",
      "Average Unit Price: -0.02 (±0.02)\n",
      "\n",
      "Segment 2:\n",
      "Number of Customers: 32\n",
      "Average Quantity: 4.15 (±1.77)\n",
      "Average Unit Price: -0.02 (±0.11)\n",
      "\n",
      "Segment 1:\n",
      "Number of Customers: 1\n",
      "Average Quantity: -0.23 (±nan)\n",
      "Average Unit Price: 55.52 (±nan)\n",
      "\n",
      "Segment 4:\n",
      "Number of Customers: 3\n",
      "Average Quantity: -0.24 (±0.00)\n",
      "Average Unit Price: 18.14 (±9.97)\n",
      "\n"
     ]
    }
   ],
   "source": [
    "# Analyze the characteristics of each segment\n",
    "segment_analysis(customer_data)"
   ]
  },
  {
   "cell_type": "code",
   "execution_count": 11,
   "metadata": {},
   "outputs": [],
   "source": [
    "import joblib"
   ]
  },
  {
   "cell_type": "code",
   "execution_count": 12,
   "metadata": {},
   "outputs": [
    {
     "data": {
      "text/plain": [
       "['../models/segmentation_model.joblib']"
      ]
     },
     "execution_count": 12,
     "metadata": {},
     "output_type": "execute_result"
    }
   ],
   "source": [
    "# Save the preprocessed data and segmentation results\n",
    "customer_data.to_csv('../data/processed/customer_data.csv', index=False)\n",
    "joblib.dump(kmeans, '../models/segmentation_model.joblib')"
   ]
  }
 ],
 "metadata": {
  "kernelspec": {
   "display_name": "envml",
   "language": "python",
   "name": "python3"
  },
  "language_info": {
   "codemirror_mode": {
    "name": "ipython",
    "version": 3
   },
   "file_extension": ".py",
   "mimetype": "text/x-python",
   "name": "python",
   "nbconvert_exporter": "python",
   "pygments_lexer": "ipython3",
   "version": "3.11.9"
  }
 },
 "nbformat": 4,
 "nbformat_minor": 2
}
